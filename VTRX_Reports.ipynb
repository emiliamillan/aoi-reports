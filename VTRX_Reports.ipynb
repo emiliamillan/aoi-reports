{
 "cells": [
  {
   "cell_type": "code",
   "execution_count": 10,
   "metadata": {},
   "outputs": [
    {
     "name": "stdout",
     "output_type": "stream",
     "text": [
      "Requirement already satisfied: pandas in c:\\users\\millane\\appdata\\local\\packages\\pythonsoftwarefoundation.python.3.11_qbz5n2kfra8p0\\localcache\\local-packages\\python311\\site-packages (2.2.1)\n",
      "Requirement already satisfied: numpy<2,>=1.23.2 in c:\\users\\millane\\appdata\\local\\packages\\pythonsoftwarefoundation.python.3.11_qbz5n2kfra8p0\\localcache\\local-packages\\python311\\site-packages (from pandas) (1.26.4)\n",
      "Requirement already satisfied: python-dateutil>=2.8.2 in c:\\users\\millane\\appdata\\local\\packages\\pythonsoftwarefoundation.python.3.11_qbz5n2kfra8p0\\localcache\\local-packages\\python311\\site-packages (from pandas) (2.9.0.post0)\n",
      "Requirement already satisfied: pytz>=2020.1 in c:\\users\\millane\\appdata\\local\\packages\\pythonsoftwarefoundation.python.3.11_qbz5n2kfra8p0\\localcache\\local-packages\\python311\\site-packages (from pandas) (2024.1)\n",
      "Requirement already satisfied: tzdata>=2022.7 in c:\\users\\millane\\appdata\\local\\packages\\pythonsoftwarefoundation.python.3.11_qbz5n2kfra8p0\\localcache\\local-packages\\python311\\site-packages (from pandas) (2024.1)\n",
      "Requirement already satisfied: six>=1.5 in c:\\users\\millane\\appdata\\local\\packages\\pythonsoftwarefoundation.python.3.11_qbz5n2kfra8p0\\localcache\\local-packages\\python311\\site-packages (from python-dateutil>=2.8.2->pandas) (1.16.0)\n",
      "Note: you may need to restart the kernel to use updated packages.\n"
     ]
    }
   ],
   "source": [
    "pip install pandas\n"
   ]
  },
  {
   "cell_type": "code",
   "execution_count": 11,
   "metadata": {},
   "outputs": [],
   "source": [
    "import os\n",
    "import pandas as pd"
   ]
  },
  {
   "cell_type": "code",
   "execution_count": 23,
   "metadata": {},
   "outputs": [
    {
     "data": {
      "text/html": [
       "<div>\n",
       "<style scoped>\n",
       "    .dataframe tbody tr th:only-of-type {\n",
       "        vertical-align: middle;\n",
       "    }\n",
       "\n",
       "    .dataframe tbody tr th {\n",
       "        vertical-align: top;\n",
       "    }\n",
       "\n",
       "    .dataframe thead th {\n",
       "        text-align: right;\n",
       "    }\n",
       "</style>\n",
       "<table border=\"1\" class=\"dataframe\">\n",
       "  <thead>\n",
       "    <tr style=\"text-align: right;\">\n",
       "      <th></th>\n",
       "      <th>Lot</th>\n",
       "      <th>Equip ID</th>\n",
       "      <th>Yield</th>\n",
       "      <th>Total Inspected</th>\n",
       "      <th>Total Reject</th>\n",
       "      <th>Invalid</th>\n",
       "      <th>Rayon en el pad-NE</th>\n",
       "      <th>Contam. en pad-93</th>\n",
       "      <th>Contam en pad 93 C</th>\n",
       "      <th>BX</th>\n",
       "      <th>...</th>\n",
       "      <th>Contaminacion metal</th>\n",
       "      <th>Tablero despostilla</th>\n",
       "      <th>Residuo metalico-80</th>\n",
       "      <th>Residuo metalico-80</th>\n",
       "      <th>Mark Invalid Device</th>\n",
       "      <th>Pin1</th>\n",
       "      <th>Despostillado-84</th>\n",
       "      <th>Contaminacion-93</th>\n",
       "      <th>Marking 1</th>\n",
       "      <th>Pin1</th>\n",
       "    </tr>\n",
       "  </thead>\n",
       "  <tbody>\n",
       "  </tbody>\n",
       "</table>\n",
       "<p>0 rows × 21 columns</p>\n",
       "</div>"
      ],
      "text/plain": [
       "Empty DataFrame\n",
       "Columns: [Lot, Equip ID, Yield, Total Inspected, Total Reject, Invalid, Rayon en el pad-NE, Contam. en pad-93, Contam en pad 93 C, BX, BY, Contaminacion metal, Tablero despostilla, Residuo metalico-80, Residuo metalico-80, Mark Invalid Device, Pin1, Despostillado-84, Contaminacion-93, Marking 1, Pin1]\n",
       "Index: []\n",
       "\n",
       "[0 rows x 21 columns]"
      ]
     },
     "execution_count": 23,
     "metadata": {},
     "output_type": "execute_result"
    }
   ],
   "source": [
    "# Define the paths where your text files are located\n",
    "VTRX1 = '//mex6vtrx01/Texas/Report/ICPLUS'\n",
    "VTRX2 = '//mex6vtrx02/Texas/Report/ICPLUS'\n",
    "\n",
    "# Initialize an empty DataFrame to store the extracted data\n",
    "columns = ['Lot', 'Equip ID', 'Yield', 'Total Inspected', 'Total Reject', \n",
    "           'Invalid',\n",
    "           'Rayon en el pad-NE',\n",
    "           'Contam. en pad-93',\n",
    "           'Contam en pad 93 C',\n",
    "           'BX',\n",
    "           'BY',\n",
    "           'Contaminacion metal',\n",
    "           'Tablero despostilla',\n",
    "           'Residuo metalico-80',\n",
    "           'Residuo metalico-80',\n",
    "           'Mark Invalid Device',\n",
    "           'Pin1',\n",
    "           'Despostillado-84',\n",
    "           'Contaminacion-93',\n",
    "           'Marking 1',\n",
    "           'Pin1',]  # Cause of defect\n",
    "\n",
    "df = pd.DataFrame(columns=columns)\n",
    "\n",
    "df"
   ]
  },
  {
   "cell_type": "code",
   "execution_count": 24,
   "metadata": {},
   "outputs": [],
   "source": [
    "# Function to read text files and extract values\n",
    "def process_text_file(file_path):\n",
    "    with open(file_path, 'r') as file:\n",
    "        content = file.read()\n",
    "        # Extract specific values from the content (modify as needed)\n",
    "        vLot = content.split('LOT       :')[2].split('\\n')[0]\n",
    "        vMachine = content.split('MACHINE   :')[2].split('\\n')[0]\n",
    "        return vLot, vMachine\n",
    "\n",
    "\n"
   ]
  },
  {
   "cell_type": "code",
   "execution_count": 27,
   "metadata": {},
   "outputs": [
    {
     "name": "stdout",
     "output_type": "stream",
     "text": [
      "Empty DataFrame\n",
      "Columns: [Lot, Equip ID, Yield, Total Inspected, Total Reject, Invalid, Rayon en el pad-NE, Contam. en pad-93, Contam en pad 93 C, BX, BY, Contaminacion metal, Tablero despostilla, Residuo metalico-80, Residuo metalico-80, Mark Invalid Device, Pin1, Despostillado-84, Contaminacion-93, Marking 1, Pin1]\n",
      "Index: []\n",
      "\n",
      "[0 rows x 21 columns]\n"
     ]
    }
   ],
   "source": [
    "# List of specific file names to search\n",
    "file_names = ['4762465.1.txt', '4762977.2', '4758180.2']\n",
    "\n",
    "# Search for text files in both paths\n",
    "for root, dirs, files in os.walk(VTRX1):\n",
    "    for file in files:\n",
    "        if file.endswith('.txt') and file in file_names:\n",
    "            file_path = os.path.join(root, file)\n",
    "            vLot, vMachine = process_text_file(file_path)\n",
    "            df = df.append({'File Name': file, 'LOT       :': vLot, 'MACHINE   :': vMachine}, ignore_index=True)\n",
    "\n",
    "\n",
    "                           \n",
    "# Display the resulting DataFrame\n",
    "print(df)"
   ]
  },
  {
   "cell_type": "code",
   "execution_count": 29,
   "metadata": {},
   "outputs": [
    {
     "ename": "IndexError",
     "evalue": "list index out of range",
     "output_type": "error",
     "traceback": [
      "\u001b[1;31m---------------------------------------------------------------------------\u001b[0m",
      "\u001b[1;31mIndexError\u001b[0m                                Traceback (most recent call last)",
      "Cell \u001b[1;32mIn[29], line 7\u001b[0m\n\u001b[0;32m      5\u001b[0m \u001b[38;5;28;01mif\u001b[39;00m file\u001b[38;5;241m.\u001b[39mendswith(\u001b[38;5;124m'\u001b[39m\u001b[38;5;124m.txt\u001b[39m\u001b[38;5;124m'\u001b[39m) \u001b[38;5;129;01mand\u001b[39;00m file \u001b[38;5;129;01min\u001b[39;00m file_names:\n\u001b[0;32m      6\u001b[0m     file_path \u001b[38;5;241m=\u001b[39m os\u001b[38;5;241m.\u001b[39mpath\u001b[38;5;241m.\u001b[39mjoin(root, file)\n\u001b[1;32m----> 7\u001b[0m     vLot, vMachine \u001b[38;5;241m=\u001b[39m \u001b[43mprocess_text_file\u001b[49m\u001b[43m(\u001b[49m\u001b[43mfile_path\u001b[49m\u001b[43m)\u001b[49m\n\u001b[0;32m      8\u001b[0m     df \u001b[38;5;241m=\u001b[39m df\u001b[38;5;241m.\u001b[39mappend({\u001b[38;5;124m'\u001b[39m\u001b[38;5;124mFile Name\u001b[39m\u001b[38;5;124m'\u001b[39m: file, \u001b[38;5;124m'\u001b[39m\u001b[38;5;124mLOT       :\u001b[39m\u001b[38;5;124m'\u001b[39m: vLot, \u001b[38;5;124m'\u001b[39m\u001b[38;5;124mMACHINE   :\u001b[39m\u001b[38;5;124m'\u001b[39m: vMachine}, ignore_index\u001b[38;5;241m=\u001b[39m\u001b[38;5;28;01mTrue\u001b[39;00m)\n",
      "Cell \u001b[1;32mIn[24], line 6\u001b[0m, in \u001b[0;36mprocess_text_file\u001b[1;34m(file_path)\u001b[0m\n\u001b[0;32m      4\u001b[0m content \u001b[38;5;241m=\u001b[39m file\u001b[38;5;241m.\u001b[39mread()\n\u001b[0;32m      5\u001b[0m \u001b[38;5;66;03m# Extract specific values from the content (modify as needed)\u001b[39;00m\n\u001b[1;32m----> 6\u001b[0m vLot \u001b[38;5;241m=\u001b[39m \u001b[43mcontent\u001b[49m\u001b[38;5;241;43m.\u001b[39;49m\u001b[43msplit\u001b[49m\u001b[43m(\u001b[49m\u001b[38;5;124;43m'\u001b[39;49m\u001b[38;5;124;43mLOT       :\u001b[39;49m\u001b[38;5;124;43m'\u001b[39;49m\u001b[43m)\u001b[49m\u001b[43m[\u001b[49m\u001b[38;5;241;43m1\u001b[39;49m\u001b[43m]\u001b[49m\u001b[38;5;241m.\u001b[39msplit(\u001b[38;5;124m'\u001b[39m\u001b[38;5;130;01m\\n\u001b[39;00m\u001b[38;5;124m'\u001b[39m)[\u001b[38;5;241m0\u001b[39m]\n\u001b[0;32m      7\u001b[0m vMachine \u001b[38;5;241m=\u001b[39m content\u001b[38;5;241m.\u001b[39msplit(\u001b[38;5;124m'\u001b[39m\u001b[38;5;124mMACHINE   :\u001b[39m\u001b[38;5;124m'\u001b[39m)[\u001b[38;5;241m1\u001b[39m]\u001b[38;5;241m.\u001b[39msplit(\u001b[38;5;124m'\u001b[39m\u001b[38;5;130;01m\\n\u001b[39;00m\u001b[38;5;124m'\u001b[39m)[\u001b[38;5;241m0\u001b[39m]\n\u001b[0;32m      8\u001b[0m \u001b[38;5;28;01mreturn\u001b[39;00m vLot, vMachine\n",
      "\u001b[1;31mIndexError\u001b[0m: list index out of range"
     ]
    }
   ],
   "source": [
    "#search vtrx02\n",
    "\n",
    "for root, dirs, files in os.walk(VTRX2):\n",
    "    for file in files:\n",
    "        if file.endswith('.txt') and file in file_names:\n",
    "            file_path = os.path.join(root, file)\n",
    "            vLot, vMachine = process_text_file(file_path)\n",
    "            df = df.append({'File Name': file, 'LOT       :': vLot, 'MACHINE   :': vMachine}, ignore_index=True)\n",
    "\n"
   ]
  },
  {
   "cell_type": "code",
   "execution_count": null,
   "metadata": {},
   "outputs": [],
   "source": []
  },
  {
   "cell_type": "code",
   "execution_count": null,
   "metadata": {},
   "outputs": [],
   "source": []
  },
  {
   "cell_type": "code",
   "execution_count": null,
   "metadata": {},
   "outputs": [],
   "source": []
  },
  {
   "cell_type": "code",
   "execution_count": 68,
   "metadata": {},
   "outputs": [],
   "source": [
    "import os\n",
    "import pandas as pd\n",
    "from datetime import datetime "
   ]
  },
  {
   "cell_type": "code",
   "execution_count": 69,
   "metadata": {},
   "outputs": [],
   "source": [
    "# Define the paths \n",
    "paths_to_search = [\n",
    "    '//mex6vtrx01/Texas/Report/ICPLUS',\n",
    "    '//mex6vtrx02/Texas/Report/ICPLUS',\n",
    "    # Add more paths here...\n",
    "]"
   ]
  },
  {
   "cell_type": "code",
   "execution_count": 100,
   "metadata": {},
   "outputs": [],
   "source": [
    "# Define the time range\n",
    "start_date_str = '2024-03-01'\n",
    "end_date_str = '2024-03-07'\n",
    "\n",
    "# Convert start and end dates to Unix timestamps\n",
    "start_date = int(datetime.strptime(start_date_str, '%Y-%m-%d').timestamp())\n",
    "end_date = int(datetime.strptime(end_date_str, '%Y-%m-%d').timestamp())"
   ]
  },
  {
   "cell_type": "code",
   "execution_count": 108,
   "metadata": {},
   "outputs": [],
   "source": [
    "def extract_values_from_text_file(file_path):\n",
    "    # Example function to extract 'Lot,' 'Equip ID,' and 'Yield' values from a text file.\n",
    "    # Modify this function according to your actual data extraction logic.\n",
    "    try:\n",
    "        with open(file_path, \"r\") as file:\n",
    "            lines = file.readlines()\n",
    "            # Assuming the values are on specific lines\n",
    "            lot_value = lines[3].strip()  # Example: Line 3 contains the 'Lot' value\n",
    "            equip_id_value = lines[7].strip()  # Example: Line 7 contains the 'Equip ID' value\n",
    "            recipe_value = lines[9].strip()\n",
    "            yield_value = lines[10].strip()  # Example: Line 10 contains the 'Yield' value\n",
    "            return lot_value, equip_id_value, recipe_value, yield_value\n",
    "    except FileNotFoundError:\n",
    "        print(f\"File not found: {file_path}\")\n",
    "        return None\n",
    "    \n",
    "\n",
    "\n",
    "\n"
   ]
  },
  {
   "cell_type": "code",
   "execution_count": 38,
   "metadata": {},
   "outputs": [
    {
     "ename": "SyntaxError",
     "evalue": "'return' outside function (639389991.py, line 5)",
     "output_type": "error",
     "traceback": [
      "\u001b[1;36m  Cell \u001b[1;32mIn[38], line 5\u001b[1;36m\u001b[0m\n\u001b[1;33m    return lot_value, equip_id_value, yield_value\u001b[0m\n\u001b[1;37m    ^\u001b[0m\n\u001b[1;31mSyntaxError\u001b[0m\u001b[1;31m:\u001b[0m 'return' outside function\n"
     ]
    }
   ],
   "source": [
    "### do not use\n",
    "try:\n",
    "    lot_value = lines[3].strip()  # Example: Line 3 contains the 'Lot' value\n",
    "    equip_id_value = lines[7].strip()  # Example: Line 5 contains the 'Equip ID' value\n",
    "    yield_value = lines[10].strip()  # Example: Line 7 contains the 'Yield' value\n",
    "    return lot_value, equip_id_value, yield_value\n",
    "except IndexError:\n",
    "    # Handle the case where the index is out of range\n",
    "    # You can print an error message or take appropriate action\n",
    "    pass  # Placeholder; customize as needed\n"
   ]
  },
  {
   "cell_type": "code",
   "execution_count": 109,
   "metadata": {},
   "outputs": [
    {
     "ename": "KeyboardInterrupt",
     "evalue": "",
     "output_type": "error",
     "traceback": [
      "\u001b[1;31m---------------------------------------------------------------------------\u001b[0m",
      "\u001b[1;31mKeyboardInterrupt\u001b[0m                         Traceback (most recent call last)",
      "Cell \u001b[1;32mIn[109], line 11\u001b[0m\n\u001b[0;32m      9\u001b[0m \u001b[38;5;28;01mif\u001b[39;00m file\u001b[38;5;241m.\u001b[39mendswith(\u001b[38;5;124m'\u001b[39m\u001b[38;5;124m.txt\u001b[39m\u001b[38;5;124m'\u001b[39m):\n\u001b[0;32m     10\u001b[0m     file_path \u001b[38;5;241m=\u001b[39m os\u001b[38;5;241m.\u001b[39mpath\u001b[38;5;241m.\u001b[39mjoin(root, file)\n\u001b[1;32m---> 11\u001b[0m     lot_value, equip_id_value, recipe_value, yield_value \u001b[38;5;241m=\u001b[39m \u001b[43mextract_values_from_text_file\u001b[49m\u001b[43m(\u001b[49m\u001b[43mfile_path\u001b[49m\u001b[43m)\u001b[49m\n\u001b[0;32m     12\u001b[0m     df \u001b[38;5;241m=\u001b[39m pd\u001b[38;5;241m.\u001b[39mconcat([df, pd\u001b[38;5;241m.\u001b[39mDataFrame([{\u001b[38;5;124m'\u001b[39m\u001b[38;5;124mFile Name\u001b[39m\u001b[38;5;124m'\u001b[39m: file, \u001b[38;5;124m'\u001b[39m\u001b[38;5;124mLot\u001b[39m\u001b[38;5;124m'\u001b[39m: lot_value, \u001b[38;5;124m'\u001b[39m\u001b[38;5;124mEquip ID\u001b[39m\u001b[38;5;124m'\u001b[39m: equip_id_value,\n\u001b[0;32m     13\u001b[0m                                             \u001b[38;5;124m'\u001b[39m\u001b[38;5;124mYield\u001b[39m\u001b[38;5;124m'\u001b[39m: yield_value}])], ignore_index\u001b[38;5;241m=\u001b[39m\u001b[38;5;28;01mTrue\u001b[39;00m)\n",
      "Cell \u001b[1;32mIn[108], line 5\u001b[0m, in \u001b[0;36mextract_values_from_text_file\u001b[1;34m(file_path)\u001b[0m\n\u001b[0;32m      1\u001b[0m \u001b[38;5;28;01mdef\u001b[39;00m \u001b[38;5;21mextract_values_from_text_file\u001b[39m(file_path):\n\u001b[0;32m      2\u001b[0m     \u001b[38;5;66;03m# Example function to extract 'Lot,' 'Equip ID,' and 'Yield' values from a text file.\u001b[39;00m\n\u001b[0;32m      3\u001b[0m     \u001b[38;5;66;03m# Modify this function according to your actual data extraction logic.\u001b[39;00m\n\u001b[0;32m      4\u001b[0m     \u001b[38;5;28;01mtry\u001b[39;00m:\n\u001b[1;32m----> 5\u001b[0m         \u001b[38;5;28;01mwith\u001b[39;00m \u001b[38;5;28;43mopen\u001b[39;49m\u001b[43m(\u001b[49m\u001b[43mfile_path\u001b[49m\u001b[43m,\u001b[49m\u001b[43m \u001b[49m\u001b[38;5;124;43m\"\u001b[39;49m\u001b[38;5;124;43mr\u001b[39;49m\u001b[38;5;124;43m\"\u001b[39;49m\u001b[43m)\u001b[49m \u001b[38;5;28;01mas\u001b[39;00m file:\n\u001b[0;32m      6\u001b[0m             lines \u001b[38;5;241m=\u001b[39m file\u001b[38;5;241m.\u001b[39mreadlines()\n\u001b[0;32m      7\u001b[0m             \u001b[38;5;66;03m# Assuming the values are on specific lines\u001b[39;00m\n",
      "File \u001b[1;32m~\\AppData\\Local\\Packages\\PythonSoftwareFoundation.Python.3.11_qbz5n2kfra8p0\\LocalCache\\local-packages\\Python311\\site-packages\\IPython\\core\\interactiveshell.py:324\u001b[0m, in \u001b[0;36m_modified_open\u001b[1;34m(file, *args, **kwargs)\u001b[0m\n\u001b[0;32m    317\u001b[0m \u001b[38;5;28;01mif\u001b[39;00m file \u001b[38;5;129;01min\u001b[39;00m {\u001b[38;5;241m0\u001b[39m, \u001b[38;5;241m1\u001b[39m, \u001b[38;5;241m2\u001b[39m}:\n\u001b[0;32m    318\u001b[0m     \u001b[38;5;28;01mraise\u001b[39;00m \u001b[38;5;167;01mValueError\u001b[39;00m(\n\u001b[0;32m    319\u001b[0m         \u001b[38;5;124mf\u001b[39m\u001b[38;5;124m\"\u001b[39m\u001b[38;5;124mIPython won\u001b[39m\u001b[38;5;124m'\u001b[39m\u001b[38;5;124mt let you open fd=\u001b[39m\u001b[38;5;132;01m{\u001b[39;00mfile\u001b[38;5;132;01m}\u001b[39;00m\u001b[38;5;124m by default \u001b[39m\u001b[38;5;124m\"\u001b[39m\n\u001b[0;32m    320\u001b[0m         \u001b[38;5;124m\"\u001b[39m\u001b[38;5;124mas it is likely to crash IPython. If you know what you are doing, \u001b[39m\u001b[38;5;124m\"\u001b[39m\n\u001b[0;32m    321\u001b[0m         \u001b[38;5;124m\"\u001b[39m\u001b[38;5;124myou can use builtins\u001b[39m\u001b[38;5;124m'\u001b[39m\u001b[38;5;124m open.\u001b[39m\u001b[38;5;124m\"\u001b[39m\n\u001b[0;32m    322\u001b[0m     )\n\u001b[1;32m--> 324\u001b[0m \u001b[38;5;28;01mreturn\u001b[39;00m \u001b[43mio_open\u001b[49m\u001b[43m(\u001b[49m\u001b[43mfile\u001b[49m\u001b[43m,\u001b[49m\u001b[43m \u001b[49m\u001b[38;5;241;43m*\u001b[39;49m\u001b[43margs\u001b[49m\u001b[43m,\u001b[49m\u001b[43m \u001b[49m\u001b[38;5;241;43m*\u001b[39;49m\u001b[38;5;241;43m*\u001b[39;49m\u001b[43mkwargs\u001b[49m\u001b[43m)\u001b[49m\n",
      "File \u001b[1;32m<frozen codecs>:260\u001b[0m, in \u001b[0;36m__init__\u001b[1;34m(self, errors)\u001b[0m\n",
      "\u001b[1;31mKeyboardInterrupt\u001b[0m: "
     ]
    }
   ],
   "source": [
    "# Initialize an empty DataFrame\n",
    "columns = ['File Name', 'Lot', 'Equip ID', 'Recipe','Yield']\n",
    "df = pd.DataFrame(columns=columns)\n",
    "\n",
    "# Search for text files in specified paths\n",
    "for path in paths_to_search:\n",
    "    for root, _, files in os.walk(path):\n",
    "        for file in files:\n",
    "            if file.endswith('.txt'):\n",
    "                file_path = os.path.join(root, file)\n",
    "                lot_value, equip_id_value, recipe_value, yield_value = extract_values_from_text_file(file_path)\n",
    "                df = pd.concat([df, pd.DataFrame([{'File Name': file, 'Lot': lot_value, 'Equip ID': equip_id_value,\n",
    "                                                        'Yield': yield_value}])], ignore_index=True)"
   ]
  },
  {
   "cell_type": "code",
   "execution_count": 111,
   "metadata": {},
   "outputs": [
    {
     "name": "stdout",
     "output_type": "stream",
     "text": [
      "              File Name                                                Lot  \\\n",
      "0     4396792.2 R-1.txt  LOT       :  4396792.2 R                      ...   \n",
      "1       4396792.2 R.txt  LOT       :  4396792.2 R                      ...   \n",
      "2                 1.txt  LOT       : 1                                 ...   \n",
      "3          12345678.txt  LOT       : 12345678                          ...   \n",
      "4                 2.txt  LOT       : 2                                 ...   \n",
      "..                  ...                                                ...   \n",
      "218       4274330.1.txt  LOT       : 4274330.1                         ...   \n",
      "219     4274331.1-1.txt  LOT       : 4274331.1                         ...   \n",
      "220       4274331.1.txt  LOT       : 4274331.1                         ...   \n",
      "221     4274332.1-1.txt  LOT       : 4274332.1                         ...   \n",
      "222       4274332.1.txt  LOT       : 4274332.1                         ...   \n",
      "\n",
      "                              Equip ID Recipe  \\\n",
      "0    MACHINE   : 6VTRX01 | TH3000i-030    NaN   \n",
      "1    MACHINE   : 6VTRX01 | TH3000i-030    NaN   \n",
      "2    MACHINE   : 6VTRX01 | TH3000i-030    NaN   \n",
      "3    MACHINE   : 6VTRX01 | TH3000i-030    NaN   \n",
      "4    MACHINE   : 6VTRX01 | TH3000i-030    NaN   \n",
      "..                                 ...    ...   \n",
      "218  MACHINE   : 6VTRX01 | TH3000i-030    NaN   \n",
      "219  MACHINE   : 6VTRX01 | TH3000i-030    NaN   \n",
      "220  MACHINE   : 6VTRX01 | TH3000i-030    NaN   \n",
      "221  MACHINE   : 6VTRX01 | TH3000i-030    NaN   \n",
      "222  MACHINE   : 6VTRX01 | TH3000i-030    NaN   \n",
      "\n",
      "                                                 Yield  \n",
      "0    TOTAL INSPECTED : 37              Total Yield ...  \n",
      "1    TOTAL INSPECTED : 37              Total Yield ...  \n",
      "2    TOTAL INSPECTED : 0             Total Yield : ...  \n",
      "3    TOTAL INSPECTED : 1               Total Yield ...  \n",
      "4    TOTAL INSPECTED : 215             Total Yield ...  \n",
      "..                                                 ...  \n",
      "218  TOTAL INSPECTED : 5622            Total Yield ...  \n",
      "219  TOTAL INSPECTED : 4781            Total Yield ...  \n",
      "220  TOTAL INSPECTED : 4780            Total Yield ...  \n",
      "221  TOTAL INSPECTED : 3938            Total Yield ...  \n",
      "222  TOTAL INSPECTED : 3623            Total Yield ...  \n",
      "\n",
      "[223 rows x 5 columns]\n"
     ]
    }
   ],
   "source": [
    "# Print DataFrame\n",
    "print(df)\n",
    "\n",
    "# Path - directory \n",
    "downloads_dir = 'Downloads'\n",
    "os.makedirs(downloads_dir, exist_ok=True)\n",
    "\n",
    "# Export the DataFrame to a CSV file \n",
    "csv_file_path = os.path.join(downloads_dir, 'data_lots.csv')\n",
    "df.to_csv(csv_file_path, index=False)\n",
    "\n",
    "# Open the saved CSV file \n",
    "try:\n",
    "    os.system(f'start excel {csv_file_path}')\n",
    "except Exception as e:\n",
    "    print(f\"Error opening CSV file: {e}\")"
   ]
  }
 ],
 "metadata": {
  "kernelspec": {
   "display_name": "Python 3",
   "language": "python",
   "name": "python3"
  },
  "language_info": {
   "codemirror_mode": {
    "name": "ipython",
    "version": 3
   },
   "file_extension": ".py",
   "mimetype": "text/x-python",
   "name": "python",
   "nbconvert_exporter": "python",
   "pygments_lexer": "ipython3",
   "version": "3.11.9"
  }
 },
 "nbformat": 4,
 "nbformat_minor": 2
}
